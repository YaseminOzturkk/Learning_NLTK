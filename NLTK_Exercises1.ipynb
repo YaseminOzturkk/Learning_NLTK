{
  "nbformat": 4,
  "nbformat_minor": 0,
  "metadata": {
    "colab": {
      "provenance": [],
      "authorship_tag": "ABX9TyPCu5DkVHNukZeGhpXrHtzK",
      "include_colab_link": true
    },
    "kernelspec": {
      "name": "python3",
      "display_name": "Python 3"
    },
    "language_info": {
      "name": "python"
    }
  },
  "cells": [
    {
      "cell_type": "markdown",
      "metadata": {
        "id": "view-in-github",
        "colab_type": "text"
      },
      "source": [
        "<a href=\"https://colab.research.google.com/github/YaseminOzturkk/Learning_NLTK/blob/main/NLTK_Exercises1.ipynb\" target=\"_parent\"><img src=\"https://colab.research.google.com/assets/colab-badge.svg\" alt=\"Open In Colab\"/></a>"
      ]
    },
    {
      "cell_type": "markdown",
      "source": [
        "Install the NLTK library."
      ],
      "metadata": {
        "id": "NNcfjE001pGi"
      }
    },
    {
      "cell_type": "code",
      "execution_count": 36,
      "metadata": {
        "colab": {
          "base_uri": "https://localhost:8080/"
        },
        "id": "luM-1-bPphpq",
        "outputId": "7ee0a643-7806-4251-ca70-6d8438186e10"
      },
      "outputs": [
        {
          "output_type": "stream",
          "name": "stdout",
          "text": [
            "Looking in indexes: https://pypi.org/simple, https://us-python.pkg.dev/colab-wheels/public/simple/\n",
            "Requirement already satisfied: nltk in /usr/local/lib/python3.7/dist-packages (3.7)\n",
            "Requirement already satisfied: joblib in /usr/local/lib/python3.7/dist-packages (from nltk) (1.2.0)\n",
            "Requirement already satisfied: regex>=2021.8.3 in /usr/local/lib/python3.7/dist-packages (from nltk) (2022.6.2)\n",
            "Requirement already satisfied: tqdm in /usr/local/lib/python3.7/dist-packages (from nltk) (4.64.1)\n",
            "Requirement already satisfied: click in /usr/local/lib/python3.7/dist-packages (from nltk) (7.1.2)\n"
          ]
        }
      ],
      "source": [
        "pip install nltk"
      ]
    },
    {
      "cell_type": "code",
      "source": [
        "#Import the NLTK library.\n",
        "import nltk\n",
        "nltk.download('punkt')\n",
        "from nltk.tokenize import word_tokenize, sent_tokenize"
      ],
      "metadata": {
        "colab": {
          "base_uri": "https://localhost:8080/"
        },
        "id": "3C18LoWtpr0D",
        "outputId": "4cd94225-6208-4c5c-bc9b-7d21fb98fd57"
      },
      "execution_count": 37,
      "outputs": [
        {
          "output_type": "stream",
          "name": "stderr",
          "text": [
            "[nltk_data] Downloading package punkt to /root/nltk_data...\n",
            "[nltk_data]   Package punkt is already up-to-date!\n"
          ]
        }
      ]
    },
    {
      "cell_type": "code",
      "source": [
        "#We use the tokenize module in nltk for the operations we want to import the library and do. The word_tokenize() module tells us to separate each word in a sentence, while the sent_tokenize() module is only used to separate two sentences.\n",
        "sentence= \"Text Analysis is a type of data analysis in which the content and meaning of texts, as well as their structure and discourse, are thoroughly examined and classified into meaningful components. This type of analysis has become increasingly critical for businesses in the past decade due to its efficiency in extracting valuable customer information.\"\n",
        "print(sent_tokenize(sentence))\n",
        "#We split the sentence into two."
      ],
      "metadata": {
        "colab": {
          "base_uri": "https://localhost:8080/"
        },
        "id": "FakFI0X8pz1f",
        "outputId": "dd2b1d58-08ef-4d1d-8e69-fba087889304"
      },
      "execution_count": 38,
      "outputs": [
        {
          "output_type": "stream",
          "name": "stdout",
          "text": [
            "['Text Analysis is a type of data analysis in which the content and meaning of texts, as well as their structure and discourse, are thoroughly examined and classified into meaningful components.', 'This type of analysis has become increasingly critical for businesses in the past decade due to its efficiency in extracting valuable customer information.']\n"
          ]
        }
      ]
    },
    {
      "cell_type": "code",
      "source": [
        "#Now we have separated each word in a sentence from each other. This is called tokenization process, while preprocessing the data, other processes like this are applied.\n",
        "print(word_tokenize(sentence))"
      ],
      "metadata": {
        "colab": {
          "base_uri": "https://localhost:8080/"
        },
        "id": "ULHrdfHLrmnO",
        "outputId": "c5d0f313-bdd0-4e13-dea3-ff00a0e444e5"
      },
      "execution_count": 39,
      "outputs": [
        {
          "output_type": "stream",
          "name": "stdout",
          "text": [
            "['Text', 'Analysis', 'is', 'a', 'type', 'of', 'data', 'analysis', 'in', 'which', 'the', 'content', 'and', 'meaning', 'of', 'texts', ',', 'as', 'well', 'as', 'their', 'structure', 'and', 'discourse', ',', 'are', 'thoroughly', 'examined', 'and', 'classified', 'into', 'meaningful', 'components', '.', 'This', 'type', 'of', 'analysis', 'has', 'become', 'increasingly', 'critical', 'for', 'businesses', 'in', 'the', 'past', 'decade', 'due', 'to', 'its', 'efficiency', 'in', 'extracting', 'valuable', 'customer', 'information', '.']\n"
          ]
        }
      ]
    },
    {
      "cell_type": "code",
      "source": [
        "#Now, we can do the stemming process.\n",
        "from nltk.stem import PorterStemmer\n",
        "ps=PorterStemmer()\n",
        "words = \"gaming, the gamers play games\"\n",
        "words = word_tokenize(words)\n",
        " \n",
        "for word in words:\n",
        "    print(word + \":\" + ps.stem(word))"
      ],
      "metadata": {
        "colab": {
          "base_uri": "https://localhost:8080/"
        },
        "id": "CqeXKIA0r8-0",
        "outputId": "52d67b9b-7ca9-45d4-dfb6-8325338dbacf"
      },
      "execution_count": 40,
      "outputs": [
        {
          "output_type": "stream",
          "name": "stdout",
          "text": [
            "gaming:game\n",
            ",:,\n",
            "the:the\n",
            "gamers:gamer\n",
            "play:play\n",
            "games:game\n"
          ]
        }
      ]
    },
    {
      "cell_type": "markdown",
      "source": [
        "PorterStemmer does not support the above operation for Turkish. That's why we have to do it in English, for Turkish it will be enough to do from snowballstemmer import stemmer."
      ],
      "metadata": {
        "id": "omX_SWQVsa1m"
      }
    },
    {
      "cell_type": "markdown",
      "source": [
        "NLTK also saves us from having to deal with unnecessary words when we are pre-processing a data set, that is, when we are going to make the data machine understandable. Actually, it's a little wrong to call it redundant, it just saves you from dealing with non-important words (i, me, my, myself, we, our, ours etc.) while doing attribute extraction. Let's try this opportunity that NLTK provides us, it also supports it in Turkish."
      ],
      "metadata": {
        "id": "5gKWD8yjtmLR"
      }
    },
    {
      "cell_type": "code",
      "source": [
        "#To check the list of stopwords you can type the following commands in the python shell.\n",
        "nltk.download('stopwords')\n",
        "from nltk.corpus import stopwords\n",
        "print(stopwords.words('english'))"
      ],
      "metadata": {
        "colab": {
          "base_uri": "https://localhost:8080/"
        },
        "id": "ba8xkAFBslnO",
        "outputId": "b202af95-eb20-4bf8-8f22-c058550e254a"
      },
      "execution_count": 41,
      "outputs": [
        {
          "output_type": "stream",
          "name": "stdout",
          "text": [
            "['i', 'me', 'my', 'myself', 'we', 'our', 'ours', 'ourselves', 'you', \"you're\", \"you've\", \"you'll\", \"you'd\", 'your', 'yours', 'yourself', 'yourselves', 'he', 'him', 'his', 'himself', 'she', \"she's\", 'her', 'hers', 'herself', 'it', \"it's\", 'its', 'itself', 'they', 'them', 'their', 'theirs', 'themselves', 'what', 'which', 'who', 'whom', 'this', 'that', \"that'll\", 'these', 'those', 'am', 'is', 'are', 'was', 'were', 'be', 'been', 'being', 'have', 'has', 'had', 'having', 'do', 'does', 'did', 'doing', 'a', 'an', 'the', 'and', 'but', 'if', 'or', 'because', 'as', 'until', 'while', 'of', 'at', 'by', 'for', 'with', 'about', 'against', 'between', 'into', 'through', 'during', 'before', 'after', 'above', 'below', 'to', 'from', 'up', 'down', 'in', 'out', 'on', 'off', 'over', 'under', 'again', 'further', 'then', 'once', 'here', 'there', 'when', 'where', 'why', 'how', 'all', 'any', 'both', 'each', 'few', 'more', 'most', 'other', 'some', 'such', 'no', 'nor', 'not', 'only', 'own', 'same', 'so', 'than', 'too', 'very', 's', 't', 'can', 'will', 'just', 'don', \"don't\", 'should', \"should've\", 'now', 'd', 'll', 'm', 'o', 're', 've', 'y', 'ain', 'aren', \"aren't\", 'couldn', \"couldn't\", 'didn', \"didn't\", 'doesn', \"doesn't\", 'hadn', \"hadn't\", 'hasn', \"hasn't\", 'haven', \"haven't\", 'isn', \"isn't\", 'ma', 'mightn', \"mightn't\", 'mustn', \"mustn't\", 'needn', \"needn't\", 'shan', \"shan't\", 'shouldn', \"shouldn't\", 'wasn', \"wasn't\", 'weren', \"weren't\", 'won', \"won't\", 'wouldn', \"wouldn't\"]\n"
          ]
        },
        {
          "output_type": "stream",
          "name": "stderr",
          "text": [
            "[nltk_data] Downloading package stopwords to /root/nltk_data...\n",
            "[nltk_data]   Package stopwords is already up-to-date!\n"
          ]
        }
      ]
    },
    {
      "cell_type": "code",
      "source": [
        "#Removing stop words with NLTK\n",
        "#The following program removes stop words from a piece of text:\n",
        "\n",
        "from nltk.corpus import stopwords\n",
        "from nltk.tokenize import word_tokenize\n",
        "  \n",
        "example_sent = \"This is a sample sentence, showing off the stop words filtration.\"\n",
        "  \n",
        "stop_words = set(stopwords.words('english'))\n",
        "  \n",
        "word_tokens = word_tokenize(example_sent)\n",
        "  \n",
        "filtered_sentence = [w for w in word_tokens if not w.lower() in stop_words]\n",
        "  \n",
        "filtered_sentence = []\n",
        "  \n",
        "for w in word_tokens:\n",
        "    if w not in stop_words:\n",
        "        filtered_sentence.append(w)\n",
        "  \n",
        "print(word_tokens)\n",
        "print(filtered_sentence)"
      ],
      "metadata": {
        "colab": {
          "base_uri": "https://localhost:8080/"
        },
        "id": "btLYln3KwU0q",
        "outputId": "a2911a00-0698-44ab-aedb-1a9445e17ad9"
      },
      "execution_count": 42,
      "outputs": [
        {
          "output_type": "stream",
          "name": "stdout",
          "text": [
            "['This', 'is', 'a', 'sample', 'sentence', ',', 'showing', 'off', 'the', 'stop', 'words', 'filtration', '.']\n",
            "['This', 'sample', 'sentence', ',', 'showing', 'stop', 'words', 'filtration', '.']\n"
          ]
        }
      ]
    }
  ]
}